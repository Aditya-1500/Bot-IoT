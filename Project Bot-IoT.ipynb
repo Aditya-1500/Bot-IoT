{
 "cells": [
  {
   "cell_type": "markdown",
   "metadata": {},
   "source": [
    "# Analysis and Classification of Attacks using Realistic Botnet Dataset"
   ]
  },
  {
   "cell_type": "code",
   "execution_count": 1,
   "metadata": {},
   "outputs": [],
   "source": [
    "# Importing necessary libraries\n",
    "import numpy as np\n",
    "import pandas as pd\n",
    "import matplotlib.pyplot as plt\n",
    "import seaborn as sns\n",
    "\n",
    "from sklearn.preprocessing import LabelEncoder, StandardScaler\n",
    "from sklearn.model_selection import train_test_split\n",
    "from sklearn.ensemble import RandomForestClassifier\n",
    "from sklearn.naive_bayes import GaussianNB \n",
    "from sklearn.neighbors import KNeighborsClassifier \n",
    "from sklearn.tree import DecisionTreeClassifier \n",
    "from xgboost import XGBClassifier\n",
    "from sklearn.metrics import confusion_matrix, classification_report\n",
    "\n",
    "%matplotlib inline"
   ]
  },
  {
   "cell_type": "code",
   "execution_count": 2,
   "metadata": {},
   "outputs": [],
   "source": [
    "import warnings\n",
    "warnings.filterwarnings('ignore')"
   ]
  },
  {
   "cell_type": "code",
   "execution_count": 3,
   "metadata": {},
   "outputs": [
    {
     "data": {
      "text/html": [
       "<div>\n",
       "<style scoped>\n",
       "    .dataframe tbody tr th:only-of-type {\n",
       "        vertical-align: middle;\n",
       "    }\n",
       "\n",
       "    .dataframe tbody tr th {\n",
       "        vertical-align: top;\n",
       "    }\n",
       "\n",
       "    .dataframe thead th {\n",
       "        text-align: right;\n",
       "    }\n",
       "</style>\n",
       "<table border=\"1\" class=\"dataframe\">\n",
       "  <thead>\n",
       "    <tr style=\"text-align: right;\">\n",
       "      <th></th>\n",
       "      <th>pkSeqID</th>\n",
       "      <th>proto</th>\n",
       "      <th>saddr</th>\n",
       "      <th>sport</th>\n",
       "      <th>daddr</th>\n",
       "      <th>dport</th>\n",
       "      <th>seq</th>\n",
       "      <th>stddev</th>\n",
       "      <th>N_IN_Conn_P_SrcIP</th>\n",
       "      <th>min</th>\n",
       "      <th>state_number</th>\n",
       "      <th>mean</th>\n",
       "      <th>N_IN_Conn_P_DstIP</th>\n",
       "      <th>drate</th>\n",
       "      <th>srate</th>\n",
       "      <th>max</th>\n",
       "      <th>attack</th>\n",
       "      <th>category</th>\n",
       "      <th>subcategory</th>\n",
       "    </tr>\n",
       "  </thead>\n",
       "  <tbody>\n",
       "    <tr>\n",
       "      <th>0</th>\n",
       "      <td>3142762</td>\n",
       "      <td>udp</td>\n",
       "      <td>192.168.100.150</td>\n",
       "      <td>6551</td>\n",
       "      <td>192.168.100.3</td>\n",
       "      <td>80</td>\n",
       "      <td>251984</td>\n",
       "      <td>1.900363</td>\n",
       "      <td>100</td>\n",
       "      <td>0.000000</td>\n",
       "      <td>4</td>\n",
       "      <td>2.687519</td>\n",
       "      <td>100</td>\n",
       "      <td>0.0</td>\n",
       "      <td>0.494549</td>\n",
       "      <td>4.031619</td>\n",
       "      <td>1</td>\n",
       "      <td>DDoS</td>\n",
       "      <td>UDP</td>\n",
       "    </tr>\n",
       "    <tr>\n",
       "      <th>1</th>\n",
       "      <td>2432264</td>\n",
       "      <td>tcp</td>\n",
       "      <td>192.168.100.150</td>\n",
       "      <td>5532</td>\n",
       "      <td>192.168.100.3</td>\n",
       "      <td>80</td>\n",
       "      <td>256724</td>\n",
       "      <td>0.078003</td>\n",
       "      <td>38</td>\n",
       "      <td>3.856930</td>\n",
       "      <td>3</td>\n",
       "      <td>3.934927</td>\n",
       "      <td>100</td>\n",
       "      <td>0.0</td>\n",
       "      <td>0.256493</td>\n",
       "      <td>4.012924</td>\n",
       "      <td>1</td>\n",
       "      <td>DDoS</td>\n",
       "      <td>TCP</td>\n",
       "    </tr>\n",
       "    <tr>\n",
       "      <th>2</th>\n",
       "      <td>1976315</td>\n",
       "      <td>tcp</td>\n",
       "      <td>192.168.100.147</td>\n",
       "      <td>27165</td>\n",
       "      <td>192.168.100.3</td>\n",
       "      <td>80</td>\n",
       "      <td>62921</td>\n",
       "      <td>0.268666</td>\n",
       "      <td>100</td>\n",
       "      <td>2.974100</td>\n",
       "      <td>3</td>\n",
       "      <td>3.341429</td>\n",
       "      <td>100</td>\n",
       "      <td>0.0</td>\n",
       "      <td>0.294880</td>\n",
       "      <td>3.609205</td>\n",
       "      <td>1</td>\n",
       "      <td>DDoS</td>\n",
       "      <td>TCP</td>\n",
       "    </tr>\n",
       "    <tr>\n",
       "      <th>3</th>\n",
       "      <td>1240757</td>\n",
       "      <td>udp</td>\n",
       "      <td>192.168.100.150</td>\n",
       "      <td>48719</td>\n",
       "      <td>192.168.100.3</td>\n",
       "      <td>80</td>\n",
       "      <td>99168</td>\n",
       "      <td>1.823185</td>\n",
       "      <td>63</td>\n",
       "      <td>0.000000</td>\n",
       "      <td>4</td>\n",
       "      <td>3.222832</td>\n",
       "      <td>63</td>\n",
       "      <td>0.0</td>\n",
       "      <td>0.461435</td>\n",
       "      <td>4.942302</td>\n",
       "      <td>1</td>\n",
       "      <td>DoS</td>\n",
       "      <td>UDP</td>\n",
       "    </tr>\n",
       "    <tr>\n",
       "      <th>4</th>\n",
       "      <td>3257991</td>\n",
       "      <td>udp</td>\n",
       "      <td>192.168.100.147</td>\n",
       "      <td>22461</td>\n",
       "      <td>192.168.100.3</td>\n",
       "      <td>80</td>\n",
       "      <td>105063</td>\n",
       "      <td>0.822418</td>\n",
       "      <td>100</td>\n",
       "      <td>2.979995</td>\n",
       "      <td>4</td>\n",
       "      <td>3.983222</td>\n",
       "      <td>100</td>\n",
       "      <td>0.0</td>\n",
       "      <td>1.002999</td>\n",
       "      <td>4.994452</td>\n",
       "      <td>1</td>\n",
       "      <td>DDoS</td>\n",
       "      <td>UDP</td>\n",
       "    </tr>\n",
       "  </tbody>\n",
       "</table>\n",
       "</div>"
      ],
      "text/plain": [
       "   pkSeqID proto            saddr  sport          daddr dport     seq  \\\n",
       "0  3142762   udp  192.168.100.150   6551  192.168.100.3    80  251984   \n",
       "1  2432264   tcp  192.168.100.150   5532  192.168.100.3    80  256724   \n",
       "2  1976315   tcp  192.168.100.147  27165  192.168.100.3    80   62921   \n",
       "3  1240757   udp  192.168.100.150  48719  192.168.100.3    80   99168   \n",
       "4  3257991   udp  192.168.100.147  22461  192.168.100.3    80  105063   \n",
       "\n",
       "     stddev  N_IN_Conn_P_SrcIP       min  state_number      mean  \\\n",
       "0  1.900363                100  0.000000             4  2.687519   \n",
       "1  0.078003                 38  3.856930             3  3.934927   \n",
       "2  0.268666                100  2.974100             3  3.341429   \n",
       "3  1.823185                 63  0.000000             4  3.222832   \n",
       "4  0.822418                100  2.979995             4  3.983222   \n",
       "\n",
       "   N_IN_Conn_P_DstIP  drate     srate       max  attack category subcategory  \n",
       "0                100    0.0  0.494549  4.031619       1     DDoS         UDP  \n",
       "1                100    0.0  0.256493  4.012924       1     DDoS         TCP  \n",
       "2                100    0.0  0.294880  3.609205       1     DDoS         TCP  \n",
       "3                 63    0.0  0.461435  4.942302       1      DoS         UDP  \n",
       "4                100    0.0  1.002999  4.994452       1     DDoS         UDP  "
      ]
     },
     "execution_count": 3,
     "metadata": {},
     "output_type": "execute_result"
    }
   ],
   "source": [
    "# Training Dataset\n",
    "data = pd.read_csv(\"UNSW_2018_IoT_Botnet_Final_10_best_Training.csv\")\n",
    "data.head()"
   ]
  },
  {
   "cell_type": "code",
   "execution_count": 4,
   "metadata": {},
   "outputs": [
    {
     "name": "stdout",
     "output_type": "stream",
     "text": [
      "<class 'pandas.core.frame.DataFrame'>\n",
      "RangeIndex: 2934817 entries, 0 to 2934816\n",
      "Data columns (total 19 columns):\n",
      " #   Column             Dtype  \n",
      "---  ------             -----  \n",
      " 0   pkSeqID            int64  \n",
      " 1   proto              object \n",
      " 2   saddr              object \n",
      " 3   sport              object \n",
      " 4   daddr              object \n",
      " 5   dport              object \n",
      " 6   seq                int64  \n",
      " 7   stddev             float64\n",
      " 8   N_IN_Conn_P_SrcIP  int64  \n",
      " 9   min                float64\n",
      " 10  state_number       int64  \n",
      " 11  mean               float64\n",
      " 12  N_IN_Conn_P_DstIP  int64  \n",
      " 13  drate              float64\n",
      " 14  srate              float64\n",
      " 15  max                float64\n",
      " 16  attack             int64  \n",
      " 17  category           object \n",
      " 18  subcategory        object \n",
      "dtypes: float64(6), int64(6), object(7)\n",
      "memory usage: 425.4+ MB\n"
     ]
    }
   ],
   "source": [
    "# General Information about the data\n",
    "data.info()"
   ]
  },
  {
   "cell_type": "markdown",
   "metadata": {},
   "source": [
    "## Exploratory Data Analysis"
   ]
  },
  {
   "cell_type": "code",
   "execution_count": 5,
   "metadata": {},
   "outputs": [
    {
     "data": {
      "text/html": [
       "<div>\n",
       "<style scoped>\n",
       "    .dataframe tbody tr th:only-of-type {\n",
       "        vertical-align: middle;\n",
       "    }\n",
       "\n",
       "    .dataframe tbody tr th {\n",
       "        vertical-align: top;\n",
       "    }\n",
       "\n",
       "    .dataframe thead th {\n",
       "        text-align: right;\n",
       "    }\n",
       "</style>\n",
       "<table border=\"1\" class=\"dataframe\">\n",
       "  <thead>\n",
       "    <tr style=\"text-align: right;\">\n",
       "      <th></th>\n",
       "      <th>pkSeqID</th>\n",
       "      <th>seq</th>\n",
       "      <th>stddev</th>\n",
       "      <th>N_IN_Conn_P_SrcIP</th>\n",
       "      <th>min</th>\n",
       "      <th>state_number</th>\n",
       "      <th>mean</th>\n",
       "      <th>N_IN_Conn_P_DstIP</th>\n",
       "      <th>drate</th>\n",
       "      <th>srate</th>\n",
       "      <th>max</th>\n",
       "      <th>attack</th>\n",
       "    </tr>\n",
       "  </thead>\n",
       "  <tbody>\n",
       "    <tr>\n",
       "      <th>count</th>\n",
       "      <td>2.934817e+06</td>\n",
       "      <td>2.934817e+06</td>\n",
       "      <td>2.934817e+06</td>\n",
       "      <td>2.934817e+06</td>\n",
       "      <td>2.934817e+06</td>\n",
       "      <td>2.934817e+06</td>\n",
       "      <td>2.934817e+06</td>\n",
       "      <td>2.934817e+06</td>\n",
       "      <td>2.934817e+06</td>\n",
       "      <td>2.934817e+06</td>\n",
       "      <td>2.934817e+06</td>\n",
       "      <td>2.934817e+06</td>\n",
       "    </tr>\n",
       "    <tr>\n",
       "      <th>mean</th>\n",
       "      <td>1.834209e+06</td>\n",
       "      <td>1.212973e+05</td>\n",
       "      <td>8.869639e-01</td>\n",
       "      <td>8.254997e+01</td>\n",
       "      <td>1.017208e+00</td>\n",
       "      <td>3.134219e+00</td>\n",
       "      <td>2.230471e+00</td>\n",
       "      <td>9.245766e+01</td>\n",
       "      <td>4.303064e-01</td>\n",
       "      <td>3.128290e+00</td>\n",
       "      <td>3.019269e+00</td>\n",
       "      <td>9.998739e-01</td>\n",
       "    </tr>\n",
       "    <tr>\n",
       "      <th>std</th>\n",
       "      <td>1.059058e+06</td>\n",
       "      <td>7.578700e+04</td>\n",
       "      <td>8.036391e-01</td>\n",
       "      <td>2.439019e+01</td>\n",
       "      <td>1.483551e+00</td>\n",
       "      <td>1.187107e+00</td>\n",
       "      <td>1.517766e+00</td>\n",
       "      <td>1.816651e+01</td>\n",
       "      <td>5.623304e+01</td>\n",
       "      <td>7.845494e+02</td>\n",
       "      <td>1.860915e+00</td>\n",
       "      <td>1.122750e-02</td>\n",
       "    </tr>\n",
       "    <tr>\n",
       "      <th>min</th>\n",
       "      <td>1.000000e+00</td>\n",
       "      <td>1.000000e+00</td>\n",
       "      <td>0.000000e+00</td>\n",
       "      <td>1.000000e+00</td>\n",
       "      <td>0.000000e+00</td>\n",
       "      <td>1.000000e+00</td>\n",
       "      <td>0.000000e+00</td>\n",
       "      <td>1.000000e+00</td>\n",
       "      <td>0.000000e+00</td>\n",
       "      <td>0.000000e+00</td>\n",
       "      <td>0.000000e+00</td>\n",
       "      <td>0.000000e+00</td>\n",
       "    </tr>\n",
       "    <tr>\n",
       "      <th>25%</th>\n",
       "      <td>9.171090e+05</td>\n",
       "      <td>5.484700e+04</td>\n",
       "      <td>2.999700e-02</td>\n",
       "      <td>6.900000e+01</td>\n",
       "      <td>0.000000e+00</td>\n",
       "      <td>3.000000e+00</td>\n",
       "      <td>1.819340e-01</td>\n",
       "      <td>1.000000e+02</td>\n",
       "      <td>0.000000e+00</td>\n",
       "      <td>1.558450e-01</td>\n",
       "      <td>2.804170e-01</td>\n",
       "      <td>1.000000e+00</td>\n",
       "    </tr>\n",
       "    <tr>\n",
       "      <th>50%</th>\n",
       "      <td>1.834316e+06</td>\n",
       "      <td>1.177370e+05</td>\n",
       "      <td>7.925750e-01</td>\n",
       "      <td>1.000000e+02</td>\n",
       "      <td>0.000000e+00</td>\n",
       "      <td>4.000000e+00</td>\n",
       "      <td>2.689973e+00</td>\n",
       "      <td>1.000000e+02</td>\n",
       "      <td>0.000000e+00</td>\n",
       "      <td>2.837800e-01</td>\n",
       "      <td>4.008429e+00</td>\n",
       "      <td>1.000000e+00</td>\n",
       "    </tr>\n",
       "    <tr>\n",
       "      <th>75%</th>\n",
       "      <td>2.751250e+06</td>\n",
       "      <td>1.848700e+05</td>\n",
       "      <td>1.745220e+00</td>\n",
       "      <td>1.000000e+02</td>\n",
       "      <td>2.147949e+00</td>\n",
       "      <td>4.000000e+00</td>\n",
       "      <td>3.565061e+00</td>\n",
       "      <td>1.000000e+02</td>\n",
       "      <td>0.000000e+00</td>\n",
       "      <td>4.880000e-01</td>\n",
       "      <td>4.292426e+00</td>\n",
       "      <td>1.000000e+00</td>\n",
       "    </tr>\n",
       "    <tr>\n",
       "      <th>max</th>\n",
       "      <td>3.668522e+06</td>\n",
       "      <td>2.622110e+05</td>\n",
       "      <td>2.496763e+00</td>\n",
       "      <td>1.000000e+02</td>\n",
       "      <td>4.980471e+00</td>\n",
       "      <td>1.100000e+01</td>\n",
       "      <td>4.981882e+00</td>\n",
       "      <td>1.000000e+02</td>\n",
       "      <td>5.882353e+04</td>\n",
       "      <td>1.000000e+06</td>\n",
       "      <td>4.999999e+00</td>\n",
       "      <td>1.000000e+00</td>\n",
       "    </tr>\n",
       "  </tbody>\n",
       "</table>\n",
       "</div>"
      ],
      "text/plain": [
       "            pkSeqID           seq        stddev  N_IN_Conn_P_SrcIP  \\\n",
       "count  2.934817e+06  2.934817e+06  2.934817e+06       2.934817e+06   \n",
       "mean   1.834209e+06  1.212973e+05  8.869639e-01       8.254997e+01   \n",
       "std    1.059058e+06  7.578700e+04  8.036391e-01       2.439019e+01   \n",
       "min    1.000000e+00  1.000000e+00  0.000000e+00       1.000000e+00   \n",
       "25%    9.171090e+05  5.484700e+04  2.999700e-02       6.900000e+01   \n",
       "50%    1.834316e+06  1.177370e+05  7.925750e-01       1.000000e+02   \n",
       "75%    2.751250e+06  1.848700e+05  1.745220e+00       1.000000e+02   \n",
       "max    3.668522e+06  2.622110e+05  2.496763e+00       1.000000e+02   \n",
       "\n",
       "                min  state_number          mean  N_IN_Conn_P_DstIP  \\\n",
       "count  2.934817e+06  2.934817e+06  2.934817e+06       2.934817e+06   \n",
       "mean   1.017208e+00  3.134219e+00  2.230471e+00       9.245766e+01   \n",
       "std    1.483551e+00  1.187107e+00  1.517766e+00       1.816651e+01   \n",
       "min    0.000000e+00  1.000000e+00  0.000000e+00       1.000000e+00   \n",
       "25%    0.000000e+00  3.000000e+00  1.819340e-01       1.000000e+02   \n",
       "50%    0.000000e+00  4.000000e+00  2.689973e+00       1.000000e+02   \n",
       "75%    2.147949e+00  4.000000e+00  3.565061e+00       1.000000e+02   \n",
       "max    4.980471e+00  1.100000e+01  4.981882e+00       1.000000e+02   \n",
       "\n",
       "              drate         srate           max        attack  \n",
       "count  2.934817e+06  2.934817e+06  2.934817e+06  2.934817e+06  \n",
       "mean   4.303064e-01  3.128290e+00  3.019269e+00  9.998739e-01  \n",
       "std    5.623304e+01  7.845494e+02  1.860915e+00  1.122750e-02  \n",
       "min    0.000000e+00  0.000000e+00  0.000000e+00  0.000000e+00  \n",
       "25%    0.000000e+00  1.558450e-01  2.804170e-01  1.000000e+00  \n",
       "50%    0.000000e+00  2.837800e-01  4.008429e+00  1.000000e+00  \n",
       "75%    0.000000e+00  4.880000e-01  4.292426e+00  1.000000e+00  \n",
       "max    5.882353e+04  1.000000e+06  4.999999e+00  1.000000e+00  "
      ]
     },
     "execution_count": 5,
     "metadata": {},
     "output_type": "execute_result"
    }
   ],
   "source": [
    "data.describe()"
   ]
  },
  {
   "cell_type": "code",
   "execution_count": 6,
   "metadata": {},
   "outputs": [
    {
     "data": {
      "text/plain": [
       "udp          1596819\n",
       "tcp          1330598\n",
       "icmp            7228\n",
       "arp              166\n",
       "ipv6-icmp          6\n",
       "Name: proto, dtype: int64"
      ]
     },
     "execution_count": 6,
     "metadata": {},
     "output_type": "execute_result"
    }
   ],
   "source": [
    "data[\"proto\"].value_counts()"
   ]
  },
  {
   "cell_type": "code",
   "execution_count": 7,
   "metadata": {},
   "outputs": [
    {
     "data": {
      "text/plain": [
       "192.168.100.147              761360\n",
       "192.168.100.148              738642\n",
       "192.168.100.150              712260\n",
       "192.168.100.149              711466\n",
       "192.168.100.3                  6609\n",
       "192.168.100.5                  4107\n",
       "192.168.100.6                   272\n",
       "192.168.100.7                    34\n",
       "192.168.100.4                    17\n",
       "192.168.100.1                    14\n",
       "192.168.100.27                    9\n",
       "192.168.100.46                    8\n",
       "fe80::250:56ff:febe:254           5\n",
       "192.168.100.55                    3\n",
       "fe80::c0c0:aa20:45b9:bdd9         2\n",
       "fe80::250:56ff:febe:89ee          2\n",
       "fe80::250:56ff:febe:26db          2\n",
       "fe80::2c6a:ff9b:7e14:166a         2\n",
       "fe80::250:56ff:febe:c038          2\n",
       "fe80::250:56ff:febe:e9d9          1\n",
       "Name: saddr, dtype: int64"
      ]
     },
     "execution_count": 7,
     "metadata": {},
     "output_type": "execute_result"
    }
   ],
   "source": [
    "data[\"saddr\"].value_counts()"
   ]
  },
  {
   "cell_type": "code",
   "execution_count": 8,
   "metadata": {},
   "outputs": [
    {
     "data": {
      "text/plain": [
       "0x0303    7156\n",
       "80        3220\n",
       "1822       878\n",
       "60541      869\n",
       "1216       868\n",
       "          ... \n",
       "27738       31\n",
       "18992       30\n",
       "39305       30\n",
       "0x000d      10\n",
       "0x0011       8\n",
       "Name: sport, Length: 65541, dtype: int64"
      ]
     },
     "execution_count": 8,
     "metadata": {},
     "output_type": "execute_result"
    }
   ],
   "source": [
    "data[\"sport\"].value_counts()"
   ]
  },
  {
   "cell_type": "code",
   "execution_count": 9,
   "metadata": {},
   "outputs": [
    {
     "data": {
      "text/plain": [
       "192.168.100.3      1900562\n",
       "192.168.100.5       361192\n",
       "192.168.100.7       332161\n",
       "192.168.100.6       329679\n",
       "192.168.100.150       3040\n",
       "                    ...   \n",
       "192.33.14.30             1\n",
       "52.35.35.13              1\n",
       "216.239.38.10            1\n",
       "205.251.194.167          1\n",
       "205.251.194.154          1\n",
       "Name: daddr, Length: 81, dtype: int64"
      ]
     },
     "execution_count": 9,
     "metadata": {},
     "output_type": "execute_result"
    }
   ],
   "source": [
    "data[\"daddr\"].value_counts()"
   ]
  },
  {
   "cell_type": "code",
   "execution_count": 10,
   "metadata": {},
   "outputs": [
    {
     "data": {
      "text/plain": [
       "80      2858794\n",
       "1          5379\n",
       "3306       3757\n",
       "53          275\n",
       "-1          166\n",
       "         ...   \n",
       "4520          1\n",
       "7751          1\n",
       "8942          1\n",
       "8739          1\n",
       "3764          1\n",
       "Name: dport, Length: 6906, dtype: int64"
      ]
     },
     "execution_count": 10,
     "metadata": {},
     "output_type": "execute_result"
    }
   ],
   "source": [
    "data[\"dport\"].value_counts()"
   ]
  },
  {
   "cell_type": "code",
   "execution_count": 11,
   "metadata": {},
   "outputs": [
    {
     "data": {
      "text/plain": [
       "DDoS              1541315\n",
       "DoS               1320148\n",
       "Reconnaissance      72919\n",
       "Normal                370\n",
       "Theft                  65\n",
       "Name: category, dtype: int64"
      ]
     },
     "execution_count": 11,
     "metadata": {},
     "output_type": "execute_result"
    }
   ],
   "source": [
    "data[\"category\"].value_counts()"
   ]
  },
  {
   "cell_type": "code",
   "execution_count": 12,
   "metadata": {},
   "outputs": [
    {
     "data": {
      "text/plain": [
       "1    2934447\n",
       "0        370\n",
       "Name: attack, dtype: int64"
      ]
     },
     "execution_count": 12,
     "metadata": {},
     "output_type": "execute_result"
    }
   ],
   "source": [
    "data[\"attack\"].value_counts()"
   ]
  },
  {
   "cell_type": "code",
   "execution_count": 13,
   "metadata": {},
   "outputs": [
    {
     "data": {
      "text/plain": [
       "UDP                  1584650\n",
       "TCP                  1274843\n",
       "Service_Scan           58626\n",
       "OS_Fingerprint         14293\n",
       "HTTP                    1970\n",
       "Normal                   370\n",
       "Keylogging                59\n",
       "Data_Exfiltration          6\n",
       "Name: subcategory, dtype: int64"
      ]
     },
     "execution_count": 13,
     "metadata": {},
     "output_type": "execute_result"
    }
   ],
   "source": [
    "data[\"subcategory\"].value_counts()"
   ]
  },
  {
   "cell_type": "markdown",
   "metadata": {},
   "source": [
    "### Extracting 10 best features"
   ]
  },
  {
   "cell_type": "code",
   "execution_count": 14,
   "metadata": {},
   "outputs": [],
   "source": [
    "ten_best_features = data[['seq','stddev','N_IN_Conn_P_SrcIP', 'min', 'state_number', 'mean', 'N_IN_Conn_P_DstIP',\n",
    "       'drate', 'srate', 'max']]\n",
    "target_features = data[['attack','category','subcategory']]"
   ]
  },
  {
   "cell_type": "markdown",
   "metadata": {},
   "source": [
    "## Data Preprocessing"
   ]
  },
  {
   "cell_type": "code",
   "execution_count": 15,
   "metadata": {},
   "outputs": [
    {
     "data": {
      "text/html": [
       "<div>\n",
       "<style scoped>\n",
       "    .dataframe tbody tr th:only-of-type {\n",
       "        vertical-align: middle;\n",
       "    }\n",
       "\n",
       "    .dataframe tbody tr th {\n",
       "        vertical-align: top;\n",
       "    }\n",
       "\n",
       "    .dataframe thead th {\n",
       "        text-align: right;\n",
       "    }\n",
       "</style>\n",
       "<table border=\"1\" class=\"dataframe\">\n",
       "  <thead>\n",
       "    <tr style=\"text-align: right;\">\n",
       "      <th></th>\n",
       "      <th>attack</th>\n",
       "      <th>category</th>\n",
       "      <th>subcategory</th>\n",
       "    </tr>\n",
       "  </thead>\n",
       "  <tbody>\n",
       "    <tr>\n",
       "      <th>0</th>\n",
       "      <td>1</td>\n",
       "      <td>0</td>\n",
       "      <td>7</td>\n",
       "    </tr>\n",
       "    <tr>\n",
       "      <th>1</th>\n",
       "      <td>1</td>\n",
       "      <td>0</td>\n",
       "      <td>6</td>\n",
       "    </tr>\n",
       "    <tr>\n",
       "      <th>2</th>\n",
       "      <td>1</td>\n",
       "      <td>0</td>\n",
       "      <td>6</td>\n",
       "    </tr>\n",
       "    <tr>\n",
       "      <th>3</th>\n",
       "      <td>1</td>\n",
       "      <td>1</td>\n",
       "      <td>7</td>\n",
       "    </tr>\n",
       "    <tr>\n",
       "      <th>4</th>\n",
       "      <td>1</td>\n",
       "      <td>0</td>\n",
       "      <td>7</td>\n",
       "    </tr>\n",
       "  </tbody>\n",
       "</table>\n",
       "</div>"
      ],
      "text/plain": [
       "   attack  category  subcategory\n",
       "0       1         0            7\n",
       "1       1         0            6\n",
       "2       1         0            6\n",
       "3       1         1            7\n",
       "4       1         0            7"
      ]
     },
     "execution_count": 15,
     "metadata": {},
     "output_type": "execute_result"
    }
   ],
   "source": [
    "# Label Encoding the target columns\n",
    "le = LabelEncoder()\n",
    "target_features['category'] = le.fit_transform(target_features['category'])\n",
    "target_features['subcategory'] = le.fit_transform(target_features['subcategory'])\n",
    "\n",
    "target_features.head()"
   ]
  },
  {
   "cell_type": "code",
   "execution_count": 16,
   "metadata": {},
   "outputs": [],
   "source": [
    "# Train-test Split\n",
    "X_train, X_test, y_train, y_test = train_test_split(ten_best_features,target_features)"
   ]
  },
  {
   "cell_type": "code",
   "execution_count": 17,
   "metadata": {},
   "outputs": [],
   "source": [
    "# Scaling the data\n",
    "sc = StandardScaler()\n",
    "X_train = sc.fit_transform(X_train)\n",
    "X_test = sc.transform(X_test)"
   ]
  },
  {
   "cell_type": "markdown",
   "metadata": {},
   "source": [
    "## Defining the ML Model Classes"
   ]
  },
  {
   "cell_type": "code",
   "execution_count": 18,
   "metadata": {},
   "outputs": [],
   "source": [
    "class RandomForest:\n",
    "    def __init__(self,max_depth):\n",
    "        self.rfc_attack = RandomForestClassifier(max_depth=max_depth)\n",
    "        self.rfc_category = RandomForestClassifier(max_depth=max_depth)\n",
    "        self.rfc_subcategory = RandomForestClassifier(max_depth=max_depth)\n",
    "    \n",
    "    def fit(self,X_train,y_train):\n",
    "        self.rfc_attack.fit(X_train,y_train['attack'])\n",
    "        \n",
    "        features_category = np.concatenate((X_train,np.array(y_train['attack']).reshape(-1,1)),axis=1)\n",
    "        self.rfc_category.fit(features_category,y_train['category'])\n",
    "        \n",
    "        features_subcategory = np.concatenate((features_category,np.array(y_train['category']).reshape(-1,1)),axis=1)\n",
    "        self.rfc_subcategory.fit(features_subcategory,y_train['subcategory'])\n",
    "        \n",
    "    def predict(self,X_test):\n",
    "        predict_attack = self.rfc_attack.predict(X_test)\n",
    "        \n",
    "        test_category = np.concatenate((X_test,predict_attack.reshape(-1,1)),axis=1)\n",
    "        predict_category = self.rfc_category.predict(test_category)\n",
    "        \n",
    "        test_subcategory = np.concatenate((test_category,predict_category.reshape(-1,1)),axis=1)\n",
    "        predict_subcategory = self.rfc_subcategory.predict(test_subcategory)\n",
    "        \n",
    "        return pd.DataFrame({'attack':predict_attack,'category':predict_category,'subcategory':predict_subcategory})"
   ]
  },
  {
   "cell_type": "code",
   "execution_count": 19,
   "metadata": {},
   "outputs": [],
   "source": [
    "class NaiveBayes:\n",
    "    def __init__(self):\n",
    "        self.nb_attack = GaussianNB()\n",
    "        self.nb_category = GaussianNB()\n",
    "        self.nb_subcategory = GaussianNB()\n",
    "    \n",
    "    def fit(self,X_train,y_train):\n",
    "        self.nb_attack.fit(X_train,y_train['attack'])\n",
    "        \n",
    "        features_category = np.concatenate((X_train,np.array(y_train['attack']).reshape(-1,1)),axis=1)\n",
    "        self.nb_category.fit(features_category,y_train['category'])\n",
    "        \n",
    "        features_subcategory = np.concatenate((features_category,np.array(y_train['category']).reshape(-1,1)),axis=1)\n",
    "        self.nb_subcategory.fit(features_subcategory,y_train['subcategory'])\n",
    "        \n",
    "    def predict(self,X_test):\n",
    "        predict_attack = self.nb_attack.predict(X_test)\n",
    "        \n",
    "        test_category = np.concatenate((X_test,predict_attack.reshape(-1,1)),axis=1)\n",
    "        predict_category = self.nb_category.predict(test_category)\n",
    "        \n",
    "        test_subcategory = np.concatenate((test_category,predict_category.reshape(-1,1)),axis=1)\n",
    "        predict_subcategory = self.nb_subcategory.predict(test_subcategory)\n",
    "        \n",
    "        return pd.DataFrame({'attack':predict_attack,'category':predict_category,'subcategory':predict_subcategory})"
   ]
  },
  {
   "cell_type": "code",
   "execution_count": 20,
   "metadata": {},
   "outputs": [],
   "source": [
    "class DecisionTree:\n",
    "    def __init__(self,criterion,max_depth=5):\n",
    "        self.dtree_attack = DecisionTreeClassifier(criterion=criterion,max_depth=max_depth)\n",
    "        self.dtree_category = DecisionTreeClassifier(criterion=criterion,max_depth=max_depth)\n",
    "        self.dtree_subcategory = DecisionTreeClassifier(criterion=criterion,max_depth=max_depth)\n",
    "    \n",
    "    def fit(self,X_train,y_train):\n",
    "        self.dtree_attack.fit(X_train,y_train['attack'])\n",
    "        \n",
    "        features_category = np.concatenate((X_train,np.array(y_train['attack']).reshape(-1,1)),axis=1)\n",
    "        self.dtree_category.fit(features_category,y_train['category'])\n",
    "        \n",
    "        features_subcategory = np.concatenate((features_category,np.array(y_train['category']).reshape(-1,1)),axis=1)\n",
    "        self.dtree_subcategory.fit(features_subcategory,y_train['subcategory'])\n",
    "        \n",
    "    def predict(self,X_test):\n",
    "        predict_attack = self.dtree_attack.predict(X_test)\n",
    "        \n",
    "        test_category = np.concatenate((X_test,predict_attack.reshape(-1,1)),axis=1)\n",
    "        predict_category = self.dtree_category.predict(test_category)\n",
    "        \n",
    "        test_subcategory = np.concatenate((test_category,predict_category.reshape(-1,1)),axis=1)\n",
    "        predict_subcategory = self.dtree_subcategory.predict(test_subcategory)\n",
    "        \n",
    "        return pd.DataFrame({'attack':predict_attack,'category':predict_category,'subcategory':predict_subcategory})"
   ]
  },
  {
   "cell_type": "code",
   "execution_count": 21,
   "metadata": {},
   "outputs": [],
   "source": [
    "class GradientBoost:\n",
    "    def __init__(self):\n",
    "        self.xgb_attack = XGBClassifier()\n",
    "        self.xgb_category = XGBClassifier()\n",
    "        self.xgb_subcategory = XGBClassifier()\n",
    "    \n",
    "    def fit(self,X_train,y_train):\n",
    "        self.xgb_attack.fit(X_train,y_train['attack'])\n",
    "        \n",
    "        features_category = np.concatenate((X_train,np.array(y_train['attack']).reshape(-1,1)),axis=1)\n",
    "        self.xgb_category.fit(features_category,y_train['category'])\n",
    "        \n",
    "        features_subcategory = np.concatenate((features_category,np.array(y_train['category']).reshape(-1,1)),axis=1)\n",
    "        self.xgb_subcategory.fit(features_subcategory,y_train['subcategory'])\n",
    "        \n",
    "    def predict(self,X_test):\n",
    "        predict_attack = self.xgb_attack.predict(X_test)\n",
    "        \n",
    "        test_category = np.concatenate((X_test,predict_attack.reshape(-1,1)),axis=1)\n",
    "        predict_category = self.xgb_category.predict(test_category)\n",
    "        \n",
    "        test_subcategory = np.concatenate((test_category,predict_category.reshape(-1,1)),axis=1)\n",
    "        predict_subcategory = self.xgb_subcategory.predict(test_subcategory)\n",
    "        \n",
    "        return pd.DataFrame({'attack':predict_attack,'category':predict_category,'subcategory':predict_subcategory})"
   ]
  },
  {
   "cell_type": "markdown",
   "metadata": {},
   "source": [
    "### Validation of ML Models on Training Dataset"
   ]
  },
  {
   "cell_type": "markdown",
   "metadata": {},
   "source": [
    "**Random Forest**"
   ]
  },
  {
   "cell_type": "code",
   "execution_count": 22,
   "metadata": {},
   "outputs": [],
   "source": [
    "rf = RandomForest(max_depth=3)\n",
    "rf.fit(X_train,y_train)\n",
    "\n",
    "predictions_rfc = rf.predict(X_test)"
   ]
  },
  {
   "cell_type": "code",
   "execution_count": 23,
   "metadata": {},
   "outputs": [
    {
     "name": "stdout",
     "output_type": "stream",
     "text": [
      "[[     6     94]\n",
      " [     0 733605]]\n",
      "              precision    recall  f1-score   support\n",
      "\n",
      "           0       1.00      0.06      0.11       100\n",
      "           1       1.00      1.00      1.00    733605\n",
      "\n",
      "    accuracy                           1.00    733705\n",
      "   macro avg       1.00      0.53      0.56    733705\n",
      "weighted avg       1.00      1.00      1.00    733705\n",
      "\n"
     ]
    }
   ],
   "source": [
    "print(confusion_matrix(y_test['attack'],predictions_rfc['attack']))\n",
    "print(classification_report(y_test['attack'],predictions_rfc['attack']))"
   ]
  },
  {
   "cell_type": "code",
   "execution_count": 24,
   "metadata": {},
   "outputs": [
    {
     "name": "stdout",
     "output_type": "stream",
     "text": [
      "[[371011  14612      0      0      0]\n",
      " [ 38278 291276      0      1      0]\n",
      " [     0     42      0     58      0]\n",
      " [ 11372    882      0   6157      0]\n",
      " [     0      2      0     14      0]]\n",
      "              precision    recall  f1-score   support\n",
      "\n",
      "           0       0.88      0.96      0.92    385623\n",
      "           1       0.95      0.88      0.92    329555\n",
      "           2       0.00      0.00      0.00       100\n",
      "           3       0.99      0.33      0.50     18411\n",
      "           4       0.00      0.00      0.00        16\n",
      "\n",
      "    accuracy                           0.91    733705\n",
      "   macro avg       0.56      0.44      0.47    733705\n",
      "weighted avg       0.91      0.91      0.91    733705\n",
      "\n"
     ]
    }
   ],
   "source": [
    "print(confusion_matrix(y_test['category'],predictions_rfc['category']))\n",
    "print(classification_report(y_test['category'],predictions_rfc['category']))"
   ]
  },
  {
   "cell_type": "code",
   "execution_count": 25,
   "metadata": {},
   "outputs": [
    {
     "name": "stdout",
     "output_type": "stream",
     "text": [
      "[[     0      0      0      0      1    504      0]\n",
      " [     0      0      0      0     14      1      1]\n",
      " [     0      0      0      0     60     36      4]\n",
      " [     0      0      0      0    200   3427      3]\n",
      " [     0      0      0      0   7135   7641      5]\n",
      " [     0      0      0      0      0 318543    188]\n",
      " [     0      0      0      0      0      7 395935]]\n",
      "              precision    recall  f1-score   support\n",
      "\n",
      "           1       0.00      0.00      0.00       505\n",
      "           2       0.00      0.00      0.00        16\n",
      "           3       0.00      0.00      0.00       100\n",
      "           4       0.00      0.00      0.00      3630\n",
      "           5       0.96      0.48      0.64     14781\n",
      "           6       0.96      1.00      0.98    318731\n",
      "           7       1.00      1.00      1.00    395942\n",
      "\n",
      "    accuracy                           0.98    733705\n",
      "   macro avg       0.42      0.35      0.37    733705\n",
      "weighted avg       0.98      0.98      0.98    733705\n",
      "\n"
     ]
    }
   ],
   "source": [
    "print(confusion_matrix(y_test['subcategory'],predictions_rfc['subcategory']))\n",
    "print(classification_report(y_test['subcategory'],predictions_rfc['subcategory']))"
   ]
  },
  {
   "cell_type": "code",
   "execution_count": 26,
   "metadata": {},
   "outputs": [
    {
     "data": {
      "text/plain": [
       "0.9998718831137855"
      ]
     },
     "execution_count": 26,
     "metadata": {},
     "output_type": "execute_result"
    }
   ],
   "source": [
    "rf.rfc_attack.score(X_test,y_test['attack'])"
   ]
  },
  {
   "cell_type": "code",
   "execution_count": 27,
   "metadata": {},
   "outputs": [
    {
     "data": {
      "text/plain": [
       "0.9110528073271955"
      ]
     },
     "execution_count": 27,
     "metadata": {},
     "output_type": "execute_result"
    }
   ],
   "source": [
    "rf.rfc_category.score(np.concatenate((X_test,np.array(predictions_rfc['attack']).reshape(-1,1)),axis=1),y_test['category'])"
   ]
  },
  {
   "cell_type": "code",
   "execution_count": 28,
   "metadata": {},
   "outputs": [
    {
     "data": {
      "text/plain": [
       "0.9835192618286641"
      ]
     },
     "execution_count": 28,
     "metadata": {},
     "output_type": "execute_result"
    }
   ],
   "source": [
    "rf.rfc_subcategory.score(np.concatenate((X_test,np.array(predictions_rfc['attack']).reshape(-1,1),\n",
    "                                    np.array(predictions_rfc['category']).reshape(-1,1)),axis=1),y_test['subcategory'])"
   ]
  },
  {
   "cell_type": "markdown",
   "metadata": {},
   "source": [
    "**Naive Bayes**"
   ]
  },
  {
   "cell_type": "code",
   "execution_count": 29,
   "metadata": {},
   "outputs": [],
   "source": [
    "nb = NaiveBayes()\n",
    "nb.fit(X_train,y_train)\n",
    "\n",
    "predictions_nb = nb.predict(X_test)"
   ]
  },
  {
   "cell_type": "code",
   "execution_count": 30,
   "metadata": {},
   "outputs": [
    {
     "name": "stdout",
     "output_type": "stream",
     "text": [
      "[[    93      7]\n",
      " [  2774 730831]]\n",
      "              precision    recall  f1-score   support\n",
      "\n",
      "           0       0.03      0.93      0.06       100\n",
      "           1       1.00      1.00      1.00    733605\n",
      "\n",
      "    accuracy                           1.00    733705\n",
      "   macro avg       0.52      0.96      0.53    733705\n",
      "weighted avg       1.00      1.00      1.00    733705\n",
      "\n"
     ]
    }
   ],
   "source": [
    "print(confusion_matrix(y_test['attack'],predictions_nb['attack']))\n",
    "print(classification_report(y_test['attack'],predictions_nb['attack']))"
   ]
  },
  {
   "cell_type": "code",
   "execution_count": 31,
   "metadata": {},
   "outputs": [
    {
     "name": "stdout",
     "output_type": "stream",
     "text": [
      "[[368899  16551     35    138      0]\n",
      " [183002 145492    658    403      0]\n",
      " [     0      6     93      1      0]\n",
      " [ 10850   1389   2077   4095      0]\n",
      " [     0      0      4      0     12]]\n",
      "              precision    recall  f1-score   support\n",
      "\n",
      "           0       0.66      0.96      0.78    385623\n",
      "           1       0.89      0.44      0.59    329555\n",
      "           2       0.03      0.93      0.06       100\n",
      "           3       0.88      0.22      0.36     18411\n",
      "           4       1.00      0.75      0.86        16\n",
      "\n",
      "    accuracy                           0.71    733705\n",
      "   macro avg       0.69      0.66      0.53    733705\n",
      "weighted avg       0.77      0.71      0.68    733705\n",
      "\n"
     ]
    }
   ],
   "source": [
    "print(confusion_matrix(y_test['category'],predictions_nb['category']))\n",
    "print(classification_report(y_test['category'],predictions_nb['category']))"
   ]
  },
  {
   "cell_type": "code",
   "execution_count": 32,
   "metadata": {},
   "outputs": [
    {
     "name": "stdout",
     "output_type": "stream",
     "text": [
      "[[   325      0      8     34    122     16      0]\n",
      " [     0     12      4      0      0      0      0]\n",
      " [     1      0     93      1      0      5      0]\n",
      " [   229      0    121      1    137   3142      0]\n",
      " [   579      0   1956    761   3196   8289      0]\n",
      " [   818      0    676     18    367 316852      0]\n",
      " [     0      0      9      0      0     24 395909]]\n",
      "              precision    recall  f1-score   support\n",
      "\n",
      "           1       0.17      0.64      0.26       505\n",
      "           2       1.00      0.75      0.86        16\n",
      "           3       0.03      0.93      0.06       100\n",
      "           4       0.00      0.00      0.00      3630\n",
      "           5       0.84      0.22      0.34     14781\n",
      "           6       0.97      0.99      0.98    318731\n",
      "           7       1.00      1.00      1.00    395942\n",
      "\n",
      "    accuracy                           0.98    733705\n",
      "   macro avg       0.57      0.65      0.50    733705\n",
      "weighted avg       0.98      0.98      0.97    733705\n",
      "\n"
     ]
    }
   ],
   "source": [
    "print(confusion_matrix(y_test['subcategory'],predictions_nb['subcategory']))\n",
    "print(classification_report(y_test['subcategory'],predictions_nb['subcategory']))"
   ]
  },
  {
   "cell_type": "markdown",
   "metadata": {},
   "source": [
    "**Decision Tree (Information Gain)**"
   ]
  },
  {
   "cell_type": "code",
   "execution_count": 33,
   "metadata": {},
   "outputs": [],
   "source": [
    "dtree_ig = DecisionTree('entropy')\n",
    "dtree_ig.fit(X_train,y_train)\n",
    "predictions_dtree_ig = dtree_ig.predict(X_test)"
   ]
  },
  {
   "cell_type": "code",
   "execution_count": 34,
   "metadata": {},
   "outputs": [
    {
     "name": "stdout",
     "output_type": "stream",
     "text": [
      "[[    40     60]\n",
      " [     4 733601]]\n",
      "              precision    recall  f1-score   support\n",
      "\n",
      "           0       0.91      0.40      0.56       100\n",
      "           1       1.00      1.00      1.00    733605\n",
      "\n",
      "    accuracy                           1.00    733705\n",
      "   macro avg       0.95      0.70      0.78    733705\n",
      "weighted avg       1.00      1.00      1.00    733705\n",
      "\n"
     ]
    }
   ],
   "source": [
    "print(confusion_matrix(y_test['attack'],predictions_dtree_ig['attack']))\n",
    "print(classification_report(y_test['attack'],predictions_dtree_ig['attack']))"
   ]
  },
  {
   "cell_type": "code",
   "execution_count": 35,
   "metadata": {},
   "outputs": [
    {
     "name": "stdout",
     "output_type": "stream",
     "text": [
      "[[339221  45872      0    530      0]\n",
      " [ 11603 317911      0     41      0]\n",
      " [     7     13     33     47      0]\n",
      " [   355   7565      1  10490      0]\n",
      " [     0      1      0     15      0]]\n",
      "              precision    recall  f1-score   support\n",
      "\n",
      "           0       0.97      0.88      0.92    385623\n",
      "           1       0.86      0.96      0.91    329555\n",
      "           2       0.97      0.33      0.49       100\n",
      "           3       0.94      0.57      0.71     18411\n",
      "           4       0.00      0.00      0.00        16\n",
      "\n",
      "    accuracy                           0.91    733705\n",
      "   macro avg       0.75      0.55      0.61    733705\n",
      "weighted avg       0.92      0.91      0.91    733705\n",
      "\n"
     ]
    }
   ],
   "source": [
    "print(confusion_matrix(y_test['category'],predictions_dtree_ig['category']))\n",
    "print(classification_report(y_test['category'],predictions_dtree_ig['category']))"
   ]
  },
  {
   "cell_type": "code",
   "execution_count": 36,
   "metadata": {},
   "outputs": [
    {
     "name": "stdout",
     "output_type": "stream",
     "text": [
      "[[   387      0      0      0     79     39      0]\n",
      " [     1      1      0      0     14      0      0]\n",
      " [     0      0     33      8     37     10     12]\n",
      " [     0      0      2    949    506   2154     19]\n",
      " [    22      0      0    298   8738   5712     11]\n",
      " [    14      0      0      0    478 318237      2]\n",
      " [     0      0      0      0      0      4 395938]]\n",
      "              precision    recall  f1-score   support\n",
      "\n",
      "           1       0.91      0.77      0.83       505\n",
      "           2       1.00      0.06      0.12        16\n",
      "           3       0.94      0.33      0.49       100\n",
      "           4       0.76      0.26      0.39      3630\n",
      "           5       0.89      0.59      0.71     14781\n",
      "           6       0.98      1.00      0.99    318731\n",
      "           7       1.00      1.00      1.00    395942\n",
      "\n",
      "    accuracy                           0.99    733705\n",
      "   macro avg       0.92      0.57      0.65    733705\n",
      "weighted avg       0.99      0.99      0.99    733705\n",
      "\n"
     ]
    }
   ],
   "source": [
    "print(confusion_matrix(y_test['subcategory'],predictions_dtree_ig['subcategory']))\n",
    "print(classification_report(y_test['subcategory'],predictions_dtree_ig['subcategory']))"
   ]
  },
  {
   "cell_type": "code",
   "execution_count": 37,
   "metadata": {},
   "outputs": [
    {
     "data": {
      "text/plain": [
       "0.9999127714817263"
      ]
     },
     "execution_count": 37,
     "metadata": {},
     "output_type": "execute_result"
    }
   ],
   "source": [
    "dtree_ig.dtree_attack.score(X_test,y_test['attack'])"
   ]
  },
  {
   "cell_type": "code",
   "execution_count": 38,
   "metadata": {},
   "outputs": [
    {
     "data": {
      "text/plain": [
       "0.9099774432503527"
      ]
     },
     "execution_count": 38,
     "metadata": {},
     "output_type": "execute_result"
    }
   ],
   "source": [
    "dtree_ig.dtree_category.score(np.concatenate((X_test,np.array(predictions_dtree_ig['attack']).reshape(-1,1)),axis=1),y_test['category'])"
   ]
  },
  {
   "cell_type": "code",
   "execution_count": 39,
   "metadata": {},
   "outputs": [
    {
     "data": {
      "text/plain": [
       "0.9871583265753947"
      ]
     },
     "execution_count": 39,
     "metadata": {},
     "output_type": "execute_result"
    }
   ],
   "source": [
    "dtree_ig.dtree_subcategory.score(np.concatenate((X_test,np.array(predictions_dtree_ig['attack']).reshape(-1,1),\n",
    "                                        np.array(predictions_dtree_ig['category']).reshape(-1,1)),axis=1),y_test['subcategory'])"
   ]
  },
  {
   "cell_type": "markdown",
   "metadata": {},
   "source": [
    "**Decision Tree (Gini Index)**"
   ]
  },
  {
   "cell_type": "code",
   "execution_count": 40,
   "metadata": {},
   "outputs": [],
   "source": [
    "dtree_gini = DecisionTree('gini')\n",
    "dtree_gini.fit(X_train,y_train)\n",
    "predictions_dtree_gini = dtree_gini.predict(X_test)"
   ]
  },
  {
   "cell_type": "code",
   "execution_count": 41,
   "metadata": {},
   "outputs": [
    {
     "name": "stdout",
     "output_type": "stream",
     "text": [
      "[[    51     49]\n",
      " [    10 733595]]\n",
      "              precision    recall  f1-score   support\n",
      "\n",
      "           0       0.84      0.51      0.63       100\n",
      "           1       1.00      1.00      1.00    733605\n",
      "\n",
      "    accuracy                           1.00    733705\n",
      "   macro avg       0.92      0.75      0.82    733705\n",
      "weighted avg       1.00      1.00      1.00    733705\n",
      "\n"
     ]
    }
   ],
   "source": [
    "print(confusion_matrix(y_test['attack'],predictions_dtree_gini['attack']))\n",
    "print(classification_report(y_test['attack'],predictions_dtree_gini['attack']))"
   ]
  },
  {
   "cell_type": "code",
   "execution_count": 42,
   "metadata": {},
   "outputs": [
    {
     "name": "stdout",
     "output_type": "stream",
     "text": [
      "[[338156  46990      0    477      0]\n",
      " [  8479 321072      1      3      0]\n",
      " [     0     19     41     40      0]\n",
      " [    78   7496      4  10833      0]\n",
      " [     0      1      1     14      0]]\n",
      "              precision    recall  f1-score   support\n",
      "\n",
      "           0       0.98      0.88      0.92    385623\n",
      "           1       0.85      0.97      0.91    329555\n",
      "           2       0.87      0.41      0.56       100\n",
      "           3       0.95      0.59      0.73     18411\n",
      "           4       0.00      0.00      0.00        16\n",
      "\n",
      "    accuracy                           0.91    733705\n",
      "   macro avg       0.73      0.57      0.62    733705\n",
      "weighted avg       0.92      0.91      0.91    733705\n",
      "\n"
     ]
    }
   ],
   "source": [
    "print(confusion_matrix(y_test['category'],predictions_dtree_gini['category']))\n",
    "print(classification_report(y_test['category'],predictions_dtree_gini['category']))"
   ]
  },
  {
   "cell_type": "code",
   "execution_count": 43,
   "metadata": {},
   "outputs": [
    {
     "name": "stdout",
     "output_type": "stream",
     "text": [
      "[[   413      0      0      0      4     88      0]\n",
      " [     0      1      0      0     15      0      0]\n",
      " [    10      0      4      9     71      4      2]\n",
      " [     7      0      0    819    694   2110      0]\n",
      " [    16      0      1     71   9253   5440      0]\n",
      " [    67      0      0      0    477 318187      0]\n",
      " [     0      0      0      0      0      7 395935]]\n",
      "              precision    recall  f1-score   support\n",
      "\n",
      "           1       0.81      0.82      0.81       505\n",
      "           2       1.00      0.06      0.12        16\n",
      "           3       0.80      0.04      0.08       100\n",
      "           4       0.91      0.23      0.36      3630\n",
      "           5       0.88      0.63      0.73     14781\n",
      "           6       0.98      1.00      0.99    318731\n",
      "           7       1.00      1.00      1.00    395942\n",
      "\n",
      "    accuracy                           0.99    733705\n",
      "   macro avg       0.91      0.54      0.58    733705\n",
      "weighted avg       0.99      0.99      0.99    733705\n",
      "\n"
     ]
    }
   ],
   "source": [
    "print(confusion_matrix(y_test['subcategory'],predictions_dtree_gini['subcategory']))\n",
    "print(classification_report(y_test['subcategory'],predictions_dtree_gini['subcategory']))"
   ]
  },
  {
   "cell_type": "code",
   "execution_count": 44,
   "metadata": {},
   "outputs": [
    {
     "data": {
      "text/plain": [
       "0.9999195862097164"
      ]
     },
     "execution_count": 44,
     "metadata": {},
     "output_type": "execute_result"
    }
   ],
   "source": [
    "dtree_gini.dtree_attack.score(X_test,y_test['attack'])"
   ]
  },
  {
   "cell_type": "code",
   "execution_count": 45,
   "metadata": {},
   "outputs": [
    {
     "data": {
      "text/plain": [
       "0.9133125711287234"
      ]
     },
     "execution_count": 45,
     "metadata": {},
     "output_type": "execute_result"
    }
   ],
   "source": [
    "dtree_gini.dtree_category.score(np.concatenate((X_test,np.array(predictions_dtree_gini['attack']).reshape(-1,1)),axis=1),y_test['category'])"
   ]
  },
  {
   "cell_type": "code",
   "execution_count": 46,
   "metadata": {},
   "outputs": [
    {
     "data": {
      "text/plain": [
       "0.9876067356771454"
      ]
     },
     "execution_count": 46,
     "metadata": {},
     "output_type": "execute_result"
    }
   ],
   "source": [
    "dtree_gini.dtree_subcategory.score(np.concatenate((X_test,np.array(predictions_dtree_gini['attack']).reshape(-1,1),\n",
    "                                        np.array(predictions_dtree_gini['category']).reshape(-1,1)),axis=1),y_test['subcategory'])"
   ]
  },
  {
   "cell_type": "markdown",
   "metadata": {},
   "source": [
    "**Gradient Boost**"
   ]
  },
  {
   "cell_type": "code",
   "execution_count": 47,
   "metadata": {},
   "outputs": [
    {
     "name": "stdout",
     "output_type": "stream",
     "text": [
      "[14:20:59] WARNING: C:/Users/Administrator/workspace/xgboost-win64_release_1.4.0/src/learner.cc:1095: Starting in XGBoost 1.3.0, the default evaluation metric used with the objective 'binary:logistic' was changed from 'error' to 'logloss'. Explicitly set eval_metric if you'd like to restore the old behavior.\n",
      "[14:22:33] WARNING: C:/Users/Administrator/workspace/xgboost-win64_release_1.4.0/src/learner.cc:1095: Starting in XGBoost 1.3.0, the default evaluation metric used with the objective 'multi:softprob' was changed from 'merror' to 'mlogloss'. Explicitly set eval_metric if you'd like to restore the old behavior.\n",
      "[14:28:54] WARNING: C:/Users/Administrator/workspace/xgboost-win64_release_1.4.0/src/learner.cc:1095: Starting in XGBoost 1.3.0, the default evaluation metric used with the objective 'multi:softprob' was changed from 'merror' to 'mlogloss'. Explicitly set eval_metric if you'd like to restore the old behavior.\n"
     ]
    }
   ],
   "source": [
    "xgb = GradientBoost()\n",
    "xgb.fit(X_train,y_train)\n",
    "predictions_xgb = xgb.predict(X_test)"
   ]
  },
  {
   "cell_type": "code",
   "execution_count": 48,
   "metadata": {},
   "outputs": [
    {
     "name": "stdout",
     "output_type": "stream",
     "text": [
      "[[    99      1]\n",
      " [     1 733604]]\n",
      "              precision    recall  f1-score   support\n",
      "\n",
      "           0       0.99      0.99      0.99       100\n",
      "           1       1.00      1.00      1.00    733605\n",
      "\n",
      "    accuracy                           1.00    733705\n",
      "   macro avg       0.99      0.99      0.99    733705\n",
      "weighted avg       1.00      1.00      1.00    733705\n",
      "\n"
     ]
    }
   ],
   "source": [
    "print(confusion_matrix(y_test['attack'],predictions_xgb['attack']))\n",
    "print(classification_report(y_test['attack'],predictions_xgb['attack']))"
   ]
  },
  {
   "cell_type": "code",
   "execution_count": 49,
   "metadata": {},
   "outputs": [
    {
     "name": "stdout",
     "output_type": "stream",
     "text": [
      "[[385608     15      0      0      0]\n",
      " [    14 329541      0      0      0]\n",
      " [     0      1     99      0      0]\n",
      " [     1      0      1  18409      0]\n",
      " [     0      1      0      1     14]]\n",
      "              precision    recall  f1-score   support\n",
      "\n",
      "           0       1.00      1.00      1.00    385623\n",
      "           1       1.00      1.00      1.00    329555\n",
      "           2       0.99      0.99      0.99       100\n",
      "           3       1.00      1.00      1.00     18411\n",
      "           4       1.00      0.88      0.93        16\n",
      "\n",
      "    accuracy                           1.00    733705\n",
      "   macro avg       1.00      0.97      0.98    733705\n",
      "weighted avg       1.00      1.00      1.00    733705\n",
      "\n"
     ]
    }
   ],
   "source": [
    "print(confusion_matrix(y_test['category'],predictions_xgb['category']))\n",
    "print(classification_report(y_test['category'],predictions_xgb['category']))"
   ]
  },
  {
   "cell_type": "code",
   "execution_count": 50,
   "metadata": {},
   "outputs": [
    {
     "name": "stdout",
     "output_type": "stream",
     "text": [
      "[[   504      0      0      0      0      1      0]\n",
      " [     1     14      0      0      1      0      0]\n",
      " [     0      0     99      0      0      1      0]\n",
      " [     0      0      0   3377    252      1      0]\n",
      " [     0      0      1    212  14568      0      0]\n",
      " [     0      0      0      0      0 318730      1]\n",
      " [     0      0      0      0      0      4 395938]]\n",
      "              precision    recall  f1-score   support\n",
      "\n",
      "           1       1.00      1.00      1.00       505\n",
      "           2       1.00      0.88      0.93        16\n",
      "           3       0.99      0.99      0.99       100\n",
      "           4       0.94      0.93      0.94      3630\n",
      "           5       0.98      0.99      0.98     14781\n",
      "           6       1.00      1.00      1.00    318731\n",
      "           7       1.00      1.00      1.00    395942\n",
      "\n",
      "    accuracy                           1.00    733705\n",
      "   macro avg       0.99      0.97      0.98    733705\n",
      "weighted avg       1.00      1.00      1.00    733705\n",
      "\n"
     ]
    }
   ],
   "source": [
    "print(confusion_matrix(y_test['subcategory'],predictions_xgb['subcategory']))\n",
    "print(classification_report(y_test['subcategory'],predictions_xgb['subcategory']))"
   ]
  },
  {
   "cell_type": "code",
   "execution_count": 51,
   "metadata": {},
   "outputs": [
    {
     "data": {
      "text/plain": [
       "0.9999972741088039"
      ]
     },
     "execution_count": 51,
     "metadata": {},
     "output_type": "execute_result"
    }
   ],
   "source": [
    "xgb.xgb_attack.score(X_test,y_test['attack'])"
   ]
  },
  {
   "cell_type": "code",
   "execution_count": 52,
   "metadata": {},
   "outputs": [
    {
     "data": {
      "text/plain": [
       "0.9999536598496671"
      ]
     },
     "execution_count": 52,
     "metadata": {},
     "output_type": "execute_result"
    }
   ],
   "source": [
    "xgb.xgb_category.score(np.concatenate((X_test,np.array(predictions_xgb['attack']).reshape(-1,1)),axis=1),y_test['category'])"
   ]
  },
  {
   "cell_type": "code",
   "execution_count": 53,
   "metadata": {},
   "outputs": [
    {
     "data": {
      "text/plain": [
       "0.9993526008409375"
      ]
     },
     "execution_count": 53,
     "metadata": {},
     "output_type": "execute_result"
    }
   ],
   "source": [
    "xgb.xgb_subcategory.score(np.concatenate((X_test,np.array(predictions_xgb['attack']).reshape(-1,1),\n",
    "                                        np.array(predictions_xgb['category']).reshape(-1,1)),axis=1),y_test['subcategory'])"
   ]
  },
  {
   "cell_type": "markdown",
   "metadata": {},
   "source": [
    "### Test Data"
   ]
  },
  {
   "cell_type": "code",
   "execution_count": 55,
   "metadata": {},
   "outputs": [
    {
     "data": {
      "text/html": [
       "<div>\n",
       "<style scoped>\n",
       "    .dataframe tbody tr th:only-of-type {\n",
       "        vertical-align: middle;\n",
       "    }\n",
       "\n",
       "    .dataframe tbody tr th {\n",
       "        vertical-align: top;\n",
       "    }\n",
       "\n",
       "    .dataframe thead th {\n",
       "        text-align: right;\n",
       "    }\n",
       "</style>\n",
       "<table border=\"1\" class=\"dataframe\">\n",
       "  <thead>\n",
       "    <tr style=\"text-align: right;\">\n",
       "      <th></th>\n",
       "      <th>pkSeqID</th>\n",
       "      <th>proto</th>\n",
       "      <th>saddr</th>\n",
       "      <th>sport</th>\n",
       "      <th>daddr</th>\n",
       "      <th>dport</th>\n",
       "      <th>seq</th>\n",
       "      <th>stddev</th>\n",
       "      <th>N_IN_Conn_P_SrcIP</th>\n",
       "      <th>min</th>\n",
       "      <th>state_number</th>\n",
       "      <th>mean</th>\n",
       "      <th>N_IN_Conn_P_DstIP</th>\n",
       "      <th>drate</th>\n",
       "      <th>srate</th>\n",
       "      <th>max</th>\n",
       "      <th>attack</th>\n",
       "      <th>category</th>\n",
       "      <th>subcategory</th>\n",
       "    </tr>\n",
       "  </thead>\n",
       "  <tbody>\n",
       "    <tr>\n",
       "      <th>0</th>\n",
       "      <td>792371</td>\n",
       "      <td>udp</td>\n",
       "      <td>192.168.100.150</td>\n",
       "      <td>48516</td>\n",
       "      <td>192.168.100.3</td>\n",
       "      <td>80</td>\n",
       "      <td>175094</td>\n",
       "      <td>0.226784</td>\n",
       "      <td>100</td>\n",
       "      <td>4.100436</td>\n",
       "      <td>4</td>\n",
       "      <td>4.457383</td>\n",
       "      <td>100</td>\n",
       "      <td>0.000000</td>\n",
       "      <td>0.404711</td>\n",
       "      <td>4.719438</td>\n",
       "      <td>1</td>\n",
       "      <td>DoS</td>\n",
       "      <td>UDP</td>\n",
       "    </tr>\n",
       "    <tr>\n",
       "      <th>1</th>\n",
       "      <td>2056418</td>\n",
       "      <td>tcp</td>\n",
       "      <td>192.168.100.148</td>\n",
       "      <td>22267</td>\n",
       "      <td>192.168.100.3</td>\n",
       "      <td>80</td>\n",
       "      <td>143024</td>\n",
       "      <td>0.451998</td>\n",
       "      <td>100</td>\n",
       "      <td>3.439257</td>\n",
       "      <td>1</td>\n",
       "      <td>3.806172</td>\n",
       "      <td>100</td>\n",
       "      <td>0.225077</td>\n",
       "      <td>0.401397</td>\n",
       "      <td>4.442930</td>\n",
       "      <td>1</td>\n",
       "      <td>DDoS</td>\n",
       "      <td>TCP</td>\n",
       "    </tr>\n",
       "    <tr>\n",
       "      <th>2</th>\n",
       "      <td>2795650</td>\n",
       "      <td>udp</td>\n",
       "      <td>192.168.100.149</td>\n",
       "      <td>28629</td>\n",
       "      <td>192.168.100.3</td>\n",
       "      <td>80</td>\n",
       "      <td>167033</td>\n",
       "      <td>1.931553</td>\n",
       "      <td>73</td>\n",
       "      <td>0.000000</td>\n",
       "      <td>4</td>\n",
       "      <td>2.731204</td>\n",
       "      <td>100</td>\n",
       "      <td>0.000000</td>\n",
       "      <td>0.407287</td>\n",
       "      <td>4.138455</td>\n",
       "      <td>1</td>\n",
       "      <td>DDoS</td>\n",
       "      <td>UDP</td>\n",
       "    </tr>\n",
       "    <tr>\n",
       "      <th>3</th>\n",
       "      <td>2118009</td>\n",
       "      <td>tcp</td>\n",
       "      <td>192.168.100.148</td>\n",
       "      <td>42142</td>\n",
       "      <td>192.168.100.3</td>\n",
       "      <td>80</td>\n",
       "      <td>204615</td>\n",
       "      <td>0.428798</td>\n",
       "      <td>56</td>\n",
       "      <td>3.271411</td>\n",
       "      <td>1</td>\n",
       "      <td>3.626428</td>\n",
       "      <td>100</td>\n",
       "      <td>0.000000</td>\n",
       "      <td>0.343654</td>\n",
       "      <td>4.229700</td>\n",
       "      <td>1</td>\n",
       "      <td>DDoS</td>\n",
       "      <td>TCP</td>\n",
       "    </tr>\n",
       "    <tr>\n",
       "      <th>4</th>\n",
       "      <td>303688</td>\n",
       "      <td>tcp</td>\n",
       "      <td>192.168.100.149</td>\n",
       "      <td>1645</td>\n",
       "      <td>192.168.100.5</td>\n",
       "      <td>80</td>\n",
       "      <td>40058</td>\n",
       "      <td>2.058381</td>\n",
       "      <td>100</td>\n",
       "      <td>0.000000</td>\n",
       "      <td>3</td>\n",
       "      <td>1.188407</td>\n",
       "      <td>100</td>\n",
       "      <td>0.000000</td>\n",
       "      <td>0.135842</td>\n",
       "      <td>4.753628</td>\n",
       "      <td>1</td>\n",
       "      <td>DoS</td>\n",
       "      <td>TCP</td>\n",
       "    </tr>\n",
       "  </tbody>\n",
       "</table>\n",
       "</div>"
      ],
      "text/plain": [
       "   pkSeqID proto            saddr  sport          daddr dport     seq  \\\n",
       "0   792371   udp  192.168.100.150  48516  192.168.100.3    80  175094   \n",
       "1  2056418   tcp  192.168.100.148  22267  192.168.100.3    80  143024   \n",
       "2  2795650   udp  192.168.100.149  28629  192.168.100.3    80  167033   \n",
       "3  2118009   tcp  192.168.100.148  42142  192.168.100.3    80  204615   \n",
       "4   303688   tcp  192.168.100.149   1645  192.168.100.5    80   40058   \n",
       "\n",
       "     stddev  N_IN_Conn_P_SrcIP       min  state_number      mean  \\\n",
       "0  0.226784                100  4.100436             4  4.457383   \n",
       "1  0.451998                100  3.439257             1  3.806172   \n",
       "2  1.931553                 73  0.000000             4  2.731204   \n",
       "3  0.428798                 56  3.271411             1  3.626428   \n",
       "4  2.058381                100  0.000000             3  1.188407   \n",
       "\n",
       "   N_IN_Conn_P_DstIP     drate     srate       max  attack category  \\\n",
       "0                100  0.000000  0.404711  4.719438       1      DoS   \n",
       "1                100  0.225077  0.401397  4.442930       1     DDoS   \n",
       "2                100  0.000000  0.407287  4.138455       1     DDoS   \n",
       "3                100  0.000000  0.343654  4.229700       1     DDoS   \n",
       "4                100  0.000000  0.135842  4.753628       1      DoS   \n",
       "\n",
       "  subcategory  \n",
       "0         UDP  \n",
       "1         TCP  \n",
       "2         UDP  \n",
       "3         TCP  \n",
       "4         TCP  "
      ]
     },
     "execution_count": 55,
     "metadata": {},
     "output_type": "execute_result"
    }
   ],
   "source": [
    "test_data = pd.read_csv(\"UNSW_2018_IoT_Botnet_Final_10_best_Testing.csv\")\n",
    "test_data.head()"
   ]
  },
  {
   "cell_type": "code",
   "execution_count": 56,
   "metadata": {},
   "outputs": [
    {
     "data": {
      "text/html": [
       "<div>\n",
       "<style scoped>\n",
       "    .dataframe tbody tr th:only-of-type {\n",
       "        vertical-align: middle;\n",
       "    }\n",
       "\n",
       "    .dataframe tbody tr th {\n",
       "        vertical-align: top;\n",
       "    }\n",
       "\n",
       "    .dataframe thead th {\n",
       "        text-align: right;\n",
       "    }\n",
       "</style>\n",
       "<table border=\"1\" class=\"dataframe\">\n",
       "  <thead>\n",
       "    <tr style=\"text-align: right;\">\n",
       "      <th></th>\n",
       "      <th>seq</th>\n",
       "      <th>stddev</th>\n",
       "      <th>N_IN_Conn_P_SrcIP</th>\n",
       "      <th>min</th>\n",
       "      <th>state_number</th>\n",
       "      <th>mean</th>\n",
       "      <th>N_IN_Conn_P_DstIP</th>\n",
       "      <th>drate</th>\n",
       "      <th>srate</th>\n",
       "      <th>max</th>\n",
       "    </tr>\n",
       "  </thead>\n",
       "  <tbody>\n",
       "    <tr>\n",
       "      <th>0</th>\n",
       "      <td>175094</td>\n",
       "      <td>0.226784</td>\n",
       "      <td>100</td>\n",
       "      <td>4.100436</td>\n",
       "      <td>4</td>\n",
       "      <td>4.457383</td>\n",
       "      <td>100</td>\n",
       "      <td>0.000000</td>\n",
       "      <td>0.404711</td>\n",
       "      <td>4.719438</td>\n",
       "    </tr>\n",
       "    <tr>\n",
       "      <th>1</th>\n",
       "      <td>143024</td>\n",
       "      <td>0.451998</td>\n",
       "      <td>100</td>\n",
       "      <td>3.439257</td>\n",
       "      <td>1</td>\n",
       "      <td>3.806172</td>\n",
       "      <td>100</td>\n",
       "      <td>0.225077</td>\n",
       "      <td>0.401397</td>\n",
       "      <td>4.442930</td>\n",
       "    </tr>\n",
       "    <tr>\n",
       "      <th>2</th>\n",
       "      <td>167033</td>\n",
       "      <td>1.931553</td>\n",
       "      <td>73</td>\n",
       "      <td>0.000000</td>\n",
       "      <td>4</td>\n",
       "      <td>2.731204</td>\n",
       "      <td>100</td>\n",
       "      <td>0.000000</td>\n",
       "      <td>0.407287</td>\n",
       "      <td>4.138455</td>\n",
       "    </tr>\n",
       "    <tr>\n",
       "      <th>3</th>\n",
       "      <td>204615</td>\n",
       "      <td>0.428798</td>\n",
       "      <td>56</td>\n",
       "      <td>3.271411</td>\n",
       "      <td>1</td>\n",
       "      <td>3.626428</td>\n",
       "      <td>100</td>\n",
       "      <td>0.000000</td>\n",
       "      <td>0.343654</td>\n",
       "      <td>4.229700</td>\n",
       "    </tr>\n",
       "    <tr>\n",
       "      <th>4</th>\n",
       "      <td>40058</td>\n",
       "      <td>2.058381</td>\n",
       "      <td>100</td>\n",
       "      <td>0.000000</td>\n",
       "      <td>3</td>\n",
       "      <td>1.188407</td>\n",
       "      <td>100</td>\n",
       "      <td>0.000000</td>\n",
       "      <td>0.135842</td>\n",
       "      <td>4.753628</td>\n",
       "    </tr>\n",
       "  </tbody>\n",
       "</table>\n",
       "</div>"
      ],
      "text/plain": [
       "      seq    stddev  N_IN_Conn_P_SrcIP       min  state_number      mean  \\\n",
       "0  175094  0.226784                100  4.100436             4  4.457383   \n",
       "1  143024  0.451998                100  3.439257             1  3.806172   \n",
       "2  167033  1.931553                 73  0.000000             4  2.731204   \n",
       "3  204615  0.428798                 56  3.271411             1  3.626428   \n",
       "4   40058  2.058381                100  0.000000             3  1.188407   \n",
       "\n",
       "   N_IN_Conn_P_DstIP     drate     srate       max  \n",
       "0                100  0.000000  0.404711  4.719438  \n",
       "1                100  0.225077  0.401397  4.442930  \n",
       "2                100  0.000000  0.407287  4.138455  \n",
       "3                100  0.000000  0.343654  4.229700  \n",
       "4                100  0.000000  0.135842  4.753628  "
      ]
     },
     "execution_count": 56,
     "metadata": {},
     "output_type": "execute_result"
    }
   ],
   "source": [
    "# Extracting the ten-best features from test set\n",
    "test_ten_best = test_data[ten_best_features.columns]\n",
    "test_labels = test_data[['attack','category','subcategory']]\n",
    "test_ten_best.head()"
   ]
  },
  {
   "cell_type": "markdown",
   "metadata": {},
   "source": [
    "**Using complete training data and test data**"
   ]
  },
  {
   "cell_type": "code",
   "execution_count": 57,
   "metadata": {},
   "outputs": [],
   "source": [
    "# Standard Scaling\n",
    "train_data = sc.fit_transform(ten_best_features)\n",
    "test = sc.transform(test_ten_best)"
   ]
  },
  {
   "cell_type": "code",
   "execution_count": 72,
   "metadata": {},
   "outputs": [],
   "source": [
    "ten_best_features = data[['seq','stddev','N_IN_Conn_P_SrcIP', 'min', 'state_number', 'mean', 'N_IN_Conn_P_DstIP',\n",
    "       'drate', 'srate', 'max']]\n",
    "target_features = data[['attack','category','subcategory']]"
   ]
  },
  {
   "cell_type": "code",
   "execution_count": 73,
   "metadata": {},
   "outputs": [],
   "source": [
    "# Label Encoding\n",
    "\n",
    "target_features['category'] = le.fit_transform(target_features['category'])\n",
    "test_labels['category'] = le.transform(test_labels['category'])\n",
    "\n",
    "target_features['subcategory'] = le.fit_transform(target_features['subcategory'])\n",
    "test_labels['subcategory'] = le.transform(test_labels['subcategory'])"
   ]
  },
  {
   "cell_type": "markdown",
   "metadata": {},
   "source": [
    "### Training ML Models on Complete Data and Testing on test set"
   ]
  },
  {
   "cell_type": "markdown",
   "metadata": {},
   "source": [
    "**Random Forest**"
   ]
  },
  {
   "cell_type": "code",
   "execution_count": 74,
   "metadata": {},
   "outputs": [],
   "source": [
    "rf_clf = RandomForest(max_depth=5)\n",
    "rf_clf.fit(train_data,target_features)\n",
    "predictions_rf = rf_clf.predict(test)"
   ]
  },
  {
   "cell_type": "code",
   "execution_count": 75,
   "metadata": {},
   "outputs": [
    {
     "name": "stdout",
     "output_type": "stream",
     "text": [
      "Random Forest: Attack\n",
      "\n",
      "[[    38     69]\n",
      " [     0 733598]] \n",
      "\n",
      "              precision    recall  f1-score   support\n",
      "\n",
      "           0       1.00      0.36      0.52       107\n",
      "           1       1.00      1.00      1.00    733598\n",
      "\n",
      "    accuracy                           1.00    733705\n",
      "   macro avg       1.00      0.68      0.76    733705\n",
      "weighted avg       1.00      1.00      1.00    733705\n",
      "\n"
     ]
    }
   ],
   "source": [
    "print(\"Random Forest: Attack\\n\")\n",
    "print(confusion_matrix(test_labels['attack'],predictions_rf['attack']),\"\\n\")\n",
    "print(classification_report(test_labels['attack'],predictions_rf['attack']))"
   ]
  },
  {
   "cell_type": "code",
   "execution_count": 76,
   "metadata": {},
   "outputs": [
    {
     "name": "stdout",
     "output_type": "stream",
     "text": [
      "Random Forest: Category\n",
      "\n",
      "[[372668  12639      0      2      0]\n",
      " [ 10976 319135      0      1      0]\n",
      " [     1     25     26     55      0]\n",
      " [   498     33      0  17632      0]\n",
      " [     0      5      0      9      0]]\n",
      "              precision    recall  f1-score   support\n",
      "\n",
      "           0       0.97      0.97      0.97    385309\n",
      "           1       0.96      0.97      0.96    330112\n",
      "           2       1.00      0.24      0.39       107\n",
      "           3       1.00      0.97      0.98     18163\n",
      "           4       0.00      0.00      0.00        14\n",
      "\n",
      "    accuracy                           0.97    733705\n",
      "   macro avg       0.79      0.63      0.66    733705\n",
      "weighted avg       0.97      0.97      0.97    733705\n",
      "\n"
     ]
    }
   ],
   "source": [
    "print(\"Random Forest: Category\\n\")\n",
    "print(confusion_matrix(test_labels['category'],predictions_rf['category']))\n",
    "print(classification_report(test_labels['category'],predictions_rf['category']))"
   ]
  },
  {
   "cell_type": "code",
   "execution_count": 77,
   "metadata": {},
   "outputs": [
    {
     "name": "stdout",
     "output_type": "stream",
     "text": [
      "Random Forest: Subcategory\n",
      "\n",
      "[[    77      0      0      0      2    425      0]\n",
      " [     0      0      0      0      9      0      5]\n",
      " [     1      0     26      0     55     23      2]\n",
      " [     0      0      0      0   3486    134      1]\n",
      " [     0      0      0      0  14146    395      1]\n",
      " [     0      0      0      0      1 318214    122]\n",
      " [     0      0      0      0      0     12 396568]]\n",
      "              precision    recall  f1-score   support\n",
      "\n",
      "           1       0.99      0.15      0.26       504\n",
      "           2       0.00      0.00      0.00        14\n",
      "           3       1.00      0.24      0.39       107\n",
      "           4       0.00      0.00      0.00      3621\n",
      "           5       0.80      0.97      0.88     14542\n",
      "           6       1.00      1.00      1.00    318337\n",
      "           7       1.00      1.00      1.00    396580\n",
      "\n",
      "    accuracy                           0.99    733705\n",
      "   macro avg       0.68      0.48      0.50    733705\n",
      "weighted avg       0.99      0.99      0.99    733705\n",
      "\n"
     ]
    }
   ],
   "source": [
    "print(\"Random Forest: Subcategory\\n\")\n",
    "print(confusion_matrix(test_labels['subcategory'],predictions_rf['subcategory']))\n",
    "print(classification_report(test_labels['subcategory'],predictions_rf['subcategory']))"
   ]
  },
  {
   "cell_type": "markdown",
   "metadata": {},
   "source": [
    "**Naive Bayes**"
   ]
  },
  {
   "cell_type": "code",
   "execution_count": 78,
   "metadata": {},
   "outputs": [],
   "source": [
    "nb_clf = NaiveBayes()\n",
    "nb_clf.fit(train_data,target_features)\n",
    "predictions_nb = nb_clf.predict(test)"
   ]
  },
  {
   "cell_type": "code",
   "execution_count": 79,
   "metadata": {},
   "outputs": [
    {
     "name": "stdout",
     "output_type": "stream",
     "text": [
      "Naive Bayes: Attack\n",
      "\n",
      "[[    96     11]\n",
      " [  2775 730823]]\n",
      "              precision    recall  f1-score   support\n",
      "\n",
      "           0       0.03      0.90      0.06       107\n",
      "           1       1.00      1.00      1.00    733598\n",
      "\n",
      "    accuracy                           1.00    733705\n",
      "   macro avg       0.52      0.95      0.53    733705\n",
      "weighted avg       1.00      1.00      1.00    733705\n",
      "\n"
     ]
    }
   ],
   "source": [
    "print(\"Naive Bayes: Attack\\n\")\n",
    "print(confusion_matrix(test_labels['attack'],predictions_nb['attack']))\n",
    "print(classification_report(test_labels['attack'],predictions_nb['attack']))"
   ]
  },
  {
   "cell_type": "code",
   "execution_count": 80,
   "metadata": {},
   "outputs": [
    {
     "name": "stdout",
     "output_type": "stream",
     "text": [
      "Naive Bayes: Category\n",
      "\n",
      "[[368894  16264     31    120      0]\n",
      " [182703 146381    699    329      0]\n",
      " [     0      9     96      2      0]\n",
      " [ 10751   1630   2040   3742      0]\n",
      " [     0      1      5      0      8]] \n",
      "\n",
      "              precision    recall  f1-score   support\n",
      "\n",
      "           0       0.66      0.96      0.78    385309\n",
      "           1       0.89      0.44      0.59    330112\n",
      "           2       0.03      0.90      0.06       107\n",
      "           3       0.89      0.21      0.33     18163\n",
      "           4       1.00      0.57      0.73        14\n",
      "\n",
      "    accuracy                           0.71    733705\n",
      "   macro avg       0.69      0.62      0.50    733705\n",
      "weighted avg       0.77      0.71      0.68    733705\n",
      "\n"
     ]
    }
   ],
   "source": [
    "print(\"Naive Bayes: Category\\n\")\n",
    "print(confusion_matrix(test_labels['category'],predictions_nb['category']),\"\\n\")\n",
    "print(classification_report(test_labels['category'],predictions_nb['category']))"
   ]
  },
  {
   "cell_type": "code",
   "execution_count": 81,
   "metadata": {},
   "outputs": [
    {
     "name": "stdout",
     "output_type": "stream",
     "text": [
      "Naive Bayes: Subcategory\n",
      "\n",
      "[[     0      0      0      0      0      0      0      0]\n",
      " [     0    337      0      7      0    146     14      0]\n",
      " [     1      0      7      5      0      0      1      0]\n",
      " [     0      0      0     96      1      1      9      0]\n",
      " [     0    199      0    128      0    151   3143      0]\n",
      " [     0    578      0   1912    612   2979   8461      0]\n",
      " [     0    815      0    715      5    296 316506      0]\n",
      " [     0      0      0      8      2      0     23 396547]]\n",
      "              precision    recall  f1-score   support\n",
      "\n",
      "           0       0.00      0.00      0.00         0\n",
      "           1       0.17      0.67      0.28       504\n",
      "           2       1.00      0.50      0.67        14\n",
      "           3       0.03      0.90      0.06       107\n",
      "           4       0.00      0.00      0.00      3621\n",
      "           5       0.83      0.20      0.33     14542\n",
      "           6       0.96      0.99      0.98    318337\n",
      "           7       1.00      1.00      1.00    396580\n",
      "\n",
      "    accuracy                           0.98    733705\n",
      "   macro avg       0.50      0.53      0.41    733705\n",
      "weighted avg       0.98      0.98      0.97    733705\n",
      "\n"
     ]
    }
   ],
   "source": [
    "print(\"Naive Bayes: Subcategory\\n\")\n",
    "print(confusion_matrix(test_labels['subcategory'],predictions_nb['subcategory']))\n",
    "print(classification_report(test_labels['subcategory'],predictions_nb['subcategory']))"
   ]
  },
  {
   "cell_type": "markdown",
   "metadata": {},
   "source": [
    "**Decision Tree (Information Gain)**"
   ]
  },
  {
   "cell_type": "code",
   "execution_count": 82,
   "metadata": {},
   "outputs": [],
   "source": [
    "dtree_ig_clf = DecisionTree('entropy')\n",
    "dtree_ig_clf.fit(train_data,target_features)\n",
    "predictions_ig = dtree_ig_clf.predict(test)"
   ]
  },
  {
   "cell_type": "code",
   "execution_count": 83,
   "metadata": {},
   "outputs": [
    {
     "name": "stdout",
     "output_type": "stream",
     "text": [
      "Decision Tree (Information Gain): Attack\n",
      "\n",
      "[[    40     67]\n",
      " [     2 733596]] \n",
      "\n",
      "              precision    recall  f1-score   support\n",
      "\n",
      "           0       0.95      0.37      0.54       107\n",
      "           1       1.00      1.00      1.00    733598\n",
      "\n",
      "    accuracy                           1.00    733705\n",
      "   macro avg       0.98      0.69      0.77    733705\n",
      "weighted avg       1.00      1.00      1.00    733705\n",
      "\n"
     ]
    }
   ],
   "source": [
    "print(\"Decision Tree (Information Gain): Attack\\n\")\n",
    "print(confusion_matrix(test_labels['attack'],predictions_ig['attack']),\"\\n\")\n",
    "print(classification_report(test_labels['attack'],predictions_ig['attack']))"
   ]
  },
  {
   "cell_type": "code",
   "execution_count": 84,
   "metadata": {},
   "outputs": [
    {
     "name": "stdout",
     "output_type": "stream",
     "text": [
      "Decision Tree (Information Gain): Category\n",
      "\n",
      "[[339497  45290      0    522      0]\n",
      " [ 11703 318367      0     42      0]\n",
      " [     9     15     33     50      0]\n",
      " [   351   7450      2  10360      0]\n",
      " [     0      0      0     14      0]]\n",
      "              precision    recall  f1-score   support\n",
      "\n",
      "           0       0.97      0.88      0.92    385309\n",
      "           1       0.86      0.96      0.91    330112\n",
      "           2       0.94      0.31      0.46       107\n",
      "           3       0.94      0.57      0.71     18163\n",
      "           4       0.00      0.00      0.00        14\n",
      "\n",
      "    accuracy                           0.91    733705\n",
      "   macro avg       0.74      0.54      0.60    733705\n",
      "weighted avg       0.92      0.91      0.91    733705\n",
      "\n"
     ]
    }
   ],
   "source": [
    "print(\"Decision Tree (Information Gain): Category\\n\")\n",
    "print(confusion_matrix(test_labels['category'],predictions_ig['category']))\n",
    "print(classification_report(test_labels['category'],predictions_ig['category']))"
   ]
  },
  {
   "cell_type": "code",
   "execution_count": 85,
   "metadata": {},
   "outputs": [
    {
     "name": "stdout",
     "output_type": "stream",
     "text": [
      "Decision Tree (Information Gain): Subcategory\n",
      "\n",
      "[[   384      0      0      0     87     33      0]\n",
      " [     0      5      0      0      9      0      0]\n",
      " [     0      0     48      4     44      9      2]\n",
      " [     0      0      2    941    574   2090     14]\n",
      " [    27      0      5    222   8623   5654     11]\n",
      " [    23      0      0      0    453 317861      0]\n",
      " [     0      0      0      0      0      8 396572]] \n",
      "\n",
      "              precision    recall  f1-score   support\n",
      "\n",
      "           1       0.88      0.76      0.82       504\n",
      "           2       1.00      0.36      0.53        14\n",
      "           3       0.87      0.45      0.59       107\n",
      "           4       0.81      0.26      0.39      3621\n",
      "           5       0.88      0.59      0.71     14542\n",
      "           6       0.98      1.00      0.99    318337\n",
      "           7       1.00      1.00      1.00    396580\n",
      "\n",
      "    accuracy                           0.99    733705\n",
      "   macro avg       0.92      0.63      0.72    733705\n",
      "weighted avg       0.99      0.99      0.99    733705\n",
      "\n"
     ]
    }
   ],
   "source": [
    "print(\"Decision Tree (Information Gain): Subcategory\\n\")\n",
    "print(confusion_matrix(test_labels['subcategory'],predictions_ig['subcategory']),\"\\n\")\n",
    "print(classification_report(test_labels['subcategory'],predictions_ig['subcategory']))"
   ]
  },
  {
   "cell_type": "markdown",
   "metadata": {},
   "source": [
    "**Decision Tree (Gini Index)**"
   ]
  },
  {
   "cell_type": "code",
   "execution_count": 86,
   "metadata": {},
   "outputs": [],
   "source": [
    "dtree_gi_clf = DecisionTree('gini')\n",
    "dtree_gi_clf.fit(train_data,target_features)\n",
    "predictions_gi = dtree_gi_clf.predict(test)"
   ]
  },
  {
   "cell_type": "code",
   "execution_count": 87,
   "metadata": {},
   "outputs": [
    {
     "name": "stdout",
     "output_type": "stream",
     "text": [
      "Decision Tree (Gini Index): Attack\n",
      "\n",
      "[[    38     69]\n",
      " [     3 733595]] \n",
      "\n",
      "              precision    recall  f1-score   support\n",
      "\n",
      "           0       0.93      0.36      0.51       107\n",
      "           1       1.00      1.00      1.00    733598\n",
      "\n",
      "    accuracy                           1.00    733705\n",
      "   macro avg       0.96      0.68      0.76    733705\n",
      "weighted avg       1.00      1.00      1.00    733705\n",
      "\n"
     ]
    }
   ],
   "source": [
    "print(\"Decision Tree (Gini Index): Attack\\n\")\n",
    "print(confusion_matrix(test_labels['attack'],predictions_gi['attack']),\"\\n\")\n",
    "print(classification_report(test_labels['attack'],predictions_gi['attack']))"
   ]
  },
  {
   "cell_type": "code",
   "execution_count": 88,
   "metadata": {},
   "outputs": [
    {
     "name": "stdout",
     "output_type": "stream",
     "text": [
      "Decision Tree (Gini Index): Category\n",
      "\n",
      "[[338396  46453      0    460      0]\n",
      " [  8631 321472      1      8      0]\n",
      " [     0     18     32     57      0]\n",
      " [    68   7383      2  10710      0]\n",
      " [     0      5      0      9      0]]\n",
      "              precision    recall  f1-score   support\n",
      "\n",
      "           0       0.97      0.88      0.92    385309\n",
      "           1       0.86      0.97      0.91    330112\n",
      "           2       0.91      0.30      0.45       107\n",
      "           3       0.95      0.59      0.73     18163\n",
      "           4       0.00      0.00      0.00        14\n",
      "\n",
      "    accuracy                           0.91    733705\n",
      "   macro avg       0.74      0.55      0.60    733705\n",
      "weighted avg       0.92      0.91      0.91    733705\n",
      "\n"
     ]
    }
   ],
   "source": [
    "print(\"Decision Tree (Gini Index): Category\\n\")\n",
    "print(confusion_matrix(test_labels['category'],predictions_gi['category']))\n",
    "print(classification_report(test_labels['category'],predictions_gi['category']))"
   ]
  },
  {
   "cell_type": "code",
   "execution_count": 89,
   "metadata": {},
   "outputs": [
    {
     "name": "stdout",
     "output_type": "stream",
     "text": [
      "Decision Tree (Gini Index): Subcategory\n",
      "\n",
      "[[   416      0      0      0     10     78      0]\n",
      " [     0      5      0      0      9      0      0]\n",
      " [     1      0      5      5     82     14      0]\n",
      " [     0      0      1    860    710   2050      0]\n",
      " [     4      3      0     71   9069   5394      1]\n",
      " [    63      0      0      0    459 317814      1]\n",
      " [     0      0      0      0      0      9 396571]] \n",
      "\n",
      "              precision    recall  f1-score   support\n",
      "\n",
      "           1       0.86      0.83      0.84       504\n",
      "           2       0.62      0.36      0.45        14\n",
      "           3       0.83      0.05      0.09       107\n",
      "           4       0.92      0.24      0.38      3621\n",
      "           5       0.88      0.62      0.73     14542\n",
      "           6       0.98      1.00      0.99    318337\n",
      "           7       1.00      1.00      1.00    396580\n",
      "\n",
      "    accuracy                           0.99    733705\n",
      "   macro avg       0.87      0.58      0.64    733705\n",
      "weighted avg       0.99      0.99      0.99    733705\n",
      "\n"
     ]
    }
   ],
   "source": [
    "print(\"Decision Tree (Gini Index): Subcategory\\n\")\n",
    "print(confusion_matrix(test_labels['subcategory'],predictions_gi['subcategory']),\"\\n\")\n",
    "print(classification_report(test_labels['subcategory'],predictions_gi['subcategory']))"
   ]
  },
  {
   "cell_type": "markdown",
   "metadata": {},
   "source": [
    "**Gradient Boost**"
   ]
  },
  {
   "cell_type": "code",
   "execution_count": 90,
   "metadata": {},
   "outputs": [
    {
     "name": "stdout",
     "output_type": "stream",
     "text": [
      "[15:17:10] WARNING: C:/Users/Administrator/workspace/xgboost-win64_release_1.4.0/src/learner.cc:1095: Starting in XGBoost 1.3.0, the default evaluation metric used with the objective 'binary:logistic' was changed from 'error' to 'logloss'. Explicitly set eval_metric if you'd like to restore the old behavior.\n",
      "[15:18:57] WARNING: C:/Users/Administrator/workspace/xgboost-win64_release_1.4.0/src/learner.cc:1095: Starting in XGBoost 1.3.0, the default evaluation metric used with the objective 'multi:softprob' was changed from 'merror' to 'mlogloss'. Explicitly set eval_metric if you'd like to restore the old behavior.\n",
      "[15:26:42] WARNING: C:/Users/Administrator/workspace/xgboost-win64_release_1.4.0/src/learner.cc:1095: Starting in XGBoost 1.3.0, the default evaluation metric used with the objective 'multi:softprob' was changed from 'merror' to 'mlogloss'. Explicitly set eval_metric if you'd like to restore the old behavior.\n"
     ]
    }
   ],
   "source": [
    "xgb_clf = GradientBoost()\n",
    "xgb_clf.fit(train_data,target_features)\n",
    "predictions_gb = xgb_clf.predict(test)"
   ]
  },
  {
   "cell_type": "code",
   "execution_count": 91,
   "metadata": {},
   "outputs": [
    {
     "name": "stdout",
     "output_type": "stream",
     "text": [
      "Gradient Boost: Attack\n",
      "\n",
      "[[   100      7]\n",
      " [     1 733597]] \n",
      "\n",
      "              precision    recall  f1-score   support\n",
      "\n",
      "           0       0.99      0.93      0.96       107\n",
      "           1       1.00      1.00      1.00    733598\n",
      "\n",
      "    accuracy                           1.00    733705\n",
      "   macro avg       1.00      0.97      0.98    733705\n",
      "weighted avg       1.00      1.00      1.00    733705\n",
      "\n"
     ]
    }
   ],
   "source": [
    "print(\"Gradient Boost: Attack\\n\")\n",
    "print(confusion_matrix(test_labels['attack'],predictions_gb['attack']),\"\\n\")\n",
    "print(classification_report(test_labels['attack'],predictions_gb['attack']))"
   ]
  },
  {
   "cell_type": "code",
   "execution_count": 92,
   "metadata": {},
   "outputs": [
    {
     "name": "stdout",
     "output_type": "stream",
     "text": [
      "Gradient Boost: Category\n",
      "\n",
      "[[385296     12      0      1      0]\n",
      " [    17 330094      1      0      0]\n",
      " [     0      0    100      7      0]\n",
      " [     0      1      0  18162      0]\n",
      " [     0      0      0      0     14]] \n",
      "\n",
      "              precision    recall  f1-score   support\n",
      "\n",
      "           0       1.00      1.00      1.00    385309\n",
      "           1       1.00      1.00      1.00    330112\n",
      "           2       0.99      0.93      0.96       107\n",
      "           3       1.00      1.00      1.00     18163\n",
      "           4       1.00      1.00      1.00        14\n",
      "\n",
      "    accuracy                           1.00    733705\n",
      "   macro avg       1.00      0.99      0.99    733705\n",
      "weighted avg       1.00      1.00      1.00    733705\n",
      "\n"
     ]
    }
   ],
   "source": [
    "print(\"Gradient Boost: Category\\n\")\n",
    "print(confusion_matrix(test_labels['category'],predictions_gb['category']),\"\\n\")\n",
    "print(classification_report(test_labels['category'],predictions_gb['category']))"
   ]
  },
  {
   "cell_type": "code",
   "execution_count": 93,
   "metadata": {},
   "outputs": [
    {
     "name": "stdout",
     "output_type": "stream",
     "text": [
      "Gradient Boost: Subcategory\n",
      "\n",
      "[[   496      0      1      0      1      6      0]\n",
      " [     0     14      0      0      0      0      0]\n",
      " [     0      0    100      0      7      0      0]\n",
      " [     0      0      0   3350    271      0      0]\n",
      " [     1      0      0    227  14314      0      0]\n",
      " [     0      0      0      0      0 318337      0]\n",
      " [     1      0      0      0      0      5 396574]] \n",
      "\n",
      "              precision    recall  f1-score   support\n",
      "\n",
      "           1       1.00      0.98      0.99       504\n",
      "           2       1.00      1.00      1.00        14\n",
      "           3       0.99      0.93      0.96       107\n",
      "           4       0.94      0.93      0.93      3621\n",
      "           5       0.98      0.98      0.98     14542\n",
      "           6       1.00      1.00      1.00    318337\n",
      "           7       1.00      1.00      1.00    396580\n",
      "\n",
      "    accuracy                           1.00    733705\n",
      "   macro avg       0.99      0.98      0.98    733705\n",
      "weighted avg       1.00      1.00      1.00    733705\n",
      "\n"
     ]
    }
   ],
   "source": [
    "print(\"Gradient Boost: Subcategory\\n\")\n",
    "print(confusion_matrix(test_labels['subcategory'],predictions_gb['subcategory']),\"\\n\")\n",
    "print(classification_report(test_labels['subcategory'],predictions_gb['subcategory']))"
   ]
  },
  {
   "cell_type": "markdown",
   "metadata": {},
   "source": [
    "# END OF NOTEBOOK"
   ]
  }
 ],
 "metadata": {
  "kernelspec": {
   "display_name": "Python 3",
   "language": "python",
   "name": "python3"
  },
  "language_info": {
   "codemirror_mode": {
    "name": "ipython",
    "version": 3
   },
   "file_extension": ".py",
   "mimetype": "text/x-python",
   "name": "python",
   "nbconvert_exporter": "python",
   "pygments_lexer": "ipython3",
   "version": "3.8.5"
  }
 },
 "nbformat": 4,
 "nbformat_minor": 4
}
